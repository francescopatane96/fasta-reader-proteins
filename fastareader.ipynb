{
  "nbformat": 4,
  "nbformat_minor": 0,
  "metadata": {
    "colab": {
      "name": "Untitled1.ipynb",
      "provenance": [],
      "authorship_tag": "ABX9TyOBfWbNqjDsyba8fCTzeSCA",
      "include_colab_link": true
    },
    "kernelspec": {
      "name": "python3",
      "display_name": "Python 3"
    },
    "language_info": {
      "name": "python"
    }
  },
  "cells": [
    {
      "cell_type": "markdown",
      "metadata": {
        "id": "view-in-github",
        "colab_type": "text"
      },
      "source": [
        "<a href=\"https://colab.research.google.com/github/francescopatane96/fasta-reader-proteins/blob/main/fastareader.ipynb\" target=\"_parent\"><img src=\"https://colab.research.google.com/assets/colab-badge.svg\" alt=\"Open In Colab\"/></a>"
      ]
    },
    {
      "cell_type": "code",
      "execution_count": 1,
      "metadata": {
        "id": "RomXbLQOhsrw"
      },
      "outputs": [],
      "source": [
        "def fastareader(file):                 #define fastareader function\n",
        "\n",
        "  with open(file) as fasta:            #open fasta file input by user, and read it\n",
        "    sequenceIDs = fasta.read()\n",
        "    print(sequenceIDs)"
      ]
    },
    {
      "cell_type": "code",
      "source": [
        "fastareader('fasta_file.txt')          #read and output fasta_file.txt, containing molecules SMILES"
      ],
      "metadata": {
        "id": "JvPMxuEkhuHT"
      },
      "execution_count": null,
      "outputs": []
    }
  ]
}